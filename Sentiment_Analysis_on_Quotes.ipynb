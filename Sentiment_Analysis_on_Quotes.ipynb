{
 "cells": [
  {
   "cell_type": "markdown",
   "id": "e1ed29e8-7eb4-4d7f-8fb7-2871b785f0e9",
   "metadata": {},
   "source": [
    "# Sentiment Analysis on Quotes"
   ]
  },
  {
   "cell_type": "markdown",
   "id": "385aa4f9-f533-4e7c-a01d-9200628e676b",
   "metadata": {},
   "source": [
    "NLP is a subset of ML, and sentiment analysis is a subset of NLP. Using sentiment analysis, we can detect whether the sentiment of a text is positive, neural, or negative. Sentiment analysis is done on text, reviews. feedback, and more."
   ]
  },
  {
   "cell_type": "markdown",
   "id": "b6fe02d1-ae4f-4221-95c6-1ffce7a413cd",
   "metadata": {},
   "source": [
    "The nltk Python library is one of the pioneers of NLP. "
   ]
  },
  {
   "cell_type": "markdown",
   "id": "c3722026-98b7-4317-9cc5-09a59959653b",
   "metadata": {},
   "source": [
    "## textblob"
   ]
  },
  {
   "cell_type": "markdown",
   "id": "ff27306b-a55d-4ccd-92c2-b25f14f518e7",
   "metadata": {},
   "source": [
    "This is a text-precessing library, built on top of nltk. It can be used for various NLP aspects, such as POS tagging, sentiment analysis, lemmatizing, tokenizing, and text classification.\n",
    "\n",
    "- polarity:\n",
    "  Indicates the positive or negative setiment of the text. The values range from -1 (very negative) to 1 (very positive), with 0 being neutral.\n",
    "- subjectivity:\n",
    "  Indicates personal feeling. The values range from 0 (objective) to 1 (subjective).\n"
   ]
  },
  {
   "cell_type": "code",
   "execution_count": 5,
   "id": "05a0b3ec-c98d-4c80-923c-ce0568dac357",
   "metadata": {},
   "outputs": [],
   "source": [
    "import pandas as pd"
   ]
  },
  {
   "cell_type": "code",
   "execution_count": 6,
   "id": "601e9ebe-fa11-42a4-b2f9-eca00a5bc8e5",
   "metadata": {},
   "outputs": [
    {
     "data": {
      "text/plain": [
       "'“The world as we have created it is a process of our thinking. It cannot be changed without changing our thinking.”'"
      ]
     },
     "execution_count": 6,
     "metadata": {},
     "output_type": "execute_result"
    }
   ],
   "source": [
    "quotes = pd.read_csv(\"quotes.csv\", usecols=[\"quote\"])\n",
    "quotes['quote'][0]"
   ]
  },
  {
   "cell_type": "code",
   "execution_count": 7,
   "id": "e44e44cb-d607-43e6-80e1-b2c770a8a3e0",
   "metadata": {},
   "outputs": [
    {
     "name": "stdout",
     "output_type": "stream",
     "text": [
      "['__add__', '__class__', '__contains__', '__delattr__', '__dict__', '__dir__', '__doc__', '__eq__', '__format__', '__ge__', '__getattribute__', '__getitem__', '__gt__', '__hash__', '__init__', '__init_subclass__', '__iter__', '__le__', '__len__', '__lt__', '__module__', '__ne__', '__new__', '__reduce__', '__reduce_ex__', '__repr__', '__setattr__', '__sizeof__', '__str__', '__subclasshook__', '__weakref__', '_cmpkey', '_compare', '_create_sentence_objects', '_strkey', 'analyzer', 'classifier', 'classify', 'correct', 'ends_with', 'endswith', 'find', 'format', 'index', 'join', 'json', 'lower', 'ngrams', 'noun_phrases', 'np_counts', 'np_extractor', 'parse', 'parser', 'polarity', 'pos_tagger', 'pos_tags', 'raw', 'raw_sentences', 'replace', 'rfind', 'rindex', 'sentences', 'sentiment', 'sentiment_assessments', 'serialized', 'split', 'starts_with', 'startswith', 'string', 'strip', 'stripped', 'subjectivity', 'tags', 'title', 'to_json', 'tokenize', 'tokenizer', 'tokens', 'upper', 'word_counts', 'words']\n"
     ]
    }
   ],
   "source": [
    "from textblob import TextBlob\n",
    "\n",
    "text = TextBlob(quotes['quote'][1])\n",
    "type(text)\n",
    "print(dir(text))"
   ]
  },
  {
   "cell_type": "code",
   "execution_count": 8,
   "id": "b0f03f58-a43a-4496-96a3-2fa573b448be",
   "metadata": {},
   "outputs": [
    {
     "data": {
      "text/plain": [
       "Sentiment(polarity=0.3, subjectivity=0.75)"
      ]
     },
     "execution_count": 8,
     "metadata": {},
     "output_type": "execute_result"
    }
   ],
   "source": [
    "text.sentiment"
   ]
  },
  {
   "cell_type": "code",
   "execution_count": 9,
   "id": "5c2d760a-4ba0-4723-925a-9f11ec7802b9",
   "metadata": {},
   "outputs": [
    {
     "data": {
      "text/plain": [
       "0.3"
      ]
     },
     "execution_count": 9,
     "metadata": {},
     "output_type": "execute_result"
    }
   ],
   "source": [
    "text.sentiment.polarity"
   ]
  },
  {
   "cell_type": "code",
   "execution_count": 10,
   "id": "3d4a26ec-d97c-4e09-ab7b-816cb455ba21",
   "metadata": {},
   "outputs": [
    {
     "name": "stdout",
     "output_type": "stream",
     "text": [
      "Text Sentiment\n"
     ]
    },
    {
     "data": {
      "text/html": [
       "<div>\n",
       "<style scoped>\n",
       "    .dataframe tbody tr th:only-of-type {\n",
       "        vertical-align: middle;\n",
       "    }\n",
       "\n",
       "    .dataframe tbody tr th {\n",
       "        vertical-align: top;\n",
       "    }\n",
       "\n",
       "    .dataframe thead th {\n",
       "        text-align: right;\n",
       "    }\n",
       "</style>\n",
       "<table border=\"1\" class=\"dataframe\">\n",
       "  <thead>\n",
       "    <tr style=\"text-align: right;\">\n",
       "      <th></th>\n",
       "      <th>quote</th>\n",
       "      <th>polarity</th>\n",
       "      <th>subjectivity</th>\n",
       "    </tr>\n",
       "  </thead>\n",
       "  <tbody>\n",
       "    <tr>\n",
       "      <th>0</th>\n",
       "      <td>“The world as we have created it is a process ...</td>\n",
       "      <td>0.000000</td>\n",
       "      <td>0.000000</td>\n",
       "    </tr>\n",
       "    <tr>\n",
       "      <th>1</th>\n",
       "      <td>“It is our choices, Harry, that show what we t...</td>\n",
       "      <td>0.300000</td>\n",
       "      <td>0.750000</td>\n",
       "    </tr>\n",
       "    <tr>\n",
       "      <th>2</th>\n",
       "      <td>“There are only two ways to live your life. On...</td>\n",
       "      <td>0.003788</td>\n",
       "      <td>0.625000</td>\n",
       "    </tr>\n",
       "    <tr>\n",
       "      <th>3</th>\n",
       "      <td>“The person, be it gentleman or lady, who has ...</td>\n",
       "      <td>-0.050000</td>\n",
       "      <td>0.800000</td>\n",
       "    </tr>\n",
       "    <tr>\n",
       "      <th>4</th>\n",
       "      <td>“Imperfection is beauty, madness is genius and...</td>\n",
       "      <td>-0.277778</td>\n",
       "      <td>0.833333</td>\n",
       "    </tr>\n",
       "  </tbody>\n",
       "</table>\n",
       "</div>"
      ],
      "text/plain": [
       "                                               quote  polarity  subjectivity\n",
       "0  “The world as we have created it is a process ...  0.000000      0.000000\n",
       "1  “It is our choices, Harry, that show what we t...  0.300000      0.750000\n",
       "2  “There are only two ways to live your life. On...  0.003788      0.625000\n",
       "3  “The person, be it gentleman or lady, who has ... -0.050000      0.800000\n",
       "4  “Imperfection is beauty, madness is genius and... -0.277778      0.833333"
      ]
     },
     "execution_count": 10,
     "metadata": {},
     "output_type": "execute_result"
    }
   ],
   "source": [
    "polarity, subjectivity = [],[]\n",
    "for quote in quotes['quote']:\n",
    "    text = TextBlob(quote)\n",
    "    polarity.append(text.sentiment.polarity)\n",
    "    subjectivity.append(text.sentiment.subjectivity)\n",
    "\n",
    "quotes['polarity'] = polarity\n",
    "quotes['subjectivity'] = subjectivity\n",
    "print(\"Text Sentiment\")\n",
    "quotes.head()"
   ]
  },
  {
   "cell_type": "markdown",
   "id": "ffa74088-bb6f-4b95-8c7e-a8695c11fedf",
   "metadata": {},
   "source": [
    "## vaderSentiment"
   ]
  },
  {
   "cell_type": "markdown",
   "id": "7abbe89a-96fb-4be1-841c-7f348e44edcb",
   "metadata": {},
   "source": [
    "This is a social media sentiment analyzer, Similar to TextBlob,\n",
    "[Valence Aware Dictionary and Sentiment Reasoner (VADER)] is a rule-based sentiment analyzer. VADER has been trained with a large collection of social media texts. \n",
    "\n",
    "vaderSentiment returns these four elements:\n",
    "\n",
    "- compound: This is the valence score of words in the lexicon. Values range from -1 (extremely negative) to 1 (very positive).\n",
    "\n",
    "- pos: A positive value with a compound score of >=0.05.\n",
    "\n",
    "- neg: A negative value with a comopund score of <=0.05.\n",
    "\n",
    "- neu: A neutral sentiment with a compound score of >=-0.05. and a compound score of < 0.05. "
   ]
  },
  {
   "cell_type": "code",
   "execution_count": 11,
   "id": "70c61bc0-67ce-47b4-b83e-007efd009b39",
   "metadata": {},
   "outputs": [],
   "source": [
    "positive, negative, neutral, compound = [], [], [], []\n",
    "from vaderSentiment.vaderSentiment import SentimentIntensityAnalyzer"
   ]
  },
  {
   "cell_type": "code",
   "execution_count": 12,
   "id": "c005ae73-e623-4bfb-bc87-ff92a4def238",
   "metadata": {},
   "outputs": [],
   "source": [
    "analyzer = SentimentIntensityAnalyzer()\n",
    "for quote in quotes[\"quote\"]:\n",
    "    text = analyzer.polarity_scores(quote)\n",
    "    positive.append(text['pos'])\n",
    "    negative.append(text['neg'])\n",
    "    neutral.append(text['neu'])\n",
    "    compound.append(text['compound'])\n",
    "\n",
    "quotes['positive'] = positive\n",
    "quotes['negative'] = negative\n",
    "quotes['neutral'] = neutral\n",
    "quotes['compound'] = compound"
   ]
  },
  {
   "cell_type": "code",
   "execution_count": 13,
   "id": "6f20c1d9-a5d0-4c12-acc9-8ef8809357c2",
   "metadata": {},
   "outputs": [
    {
     "data": {
      "text/html": [
       "<div>\n",
       "<style scoped>\n",
       "    .dataframe tbody tr th:only-of-type {\n",
       "        vertical-align: middle;\n",
       "    }\n",
       "\n",
       "    .dataframe tbody tr th {\n",
       "        vertical-align: top;\n",
       "    }\n",
       "\n",
       "    .dataframe thead th {\n",
       "        text-align: right;\n",
       "    }\n",
       "</style>\n",
       "<table border=\"1\" class=\"dataframe\">\n",
       "  <thead>\n",
       "    <tr style=\"text-align: right;\">\n",
       "      <th></th>\n",
       "      <th>quote</th>\n",
       "      <th>polarity</th>\n",
       "      <th>subjectivity</th>\n",
       "      <th>positive</th>\n",
       "      <th>negative</th>\n",
       "      <th>neutral</th>\n",
       "      <th>compound</th>\n",
       "    </tr>\n",
       "  </thead>\n",
       "  <tbody>\n",
       "    <tr>\n",
       "      <th>18</th>\n",
       "      <td>“Good friends, good books, and a sleepy consci...</td>\n",
       "      <td>0.766667</td>\n",
       "      <td>0.733333</td>\n",
       "      <td>0.485</td>\n",
       "      <td>0.000</td>\n",
       "      <td>0.515</td>\n",
       "      <td>0.8555</td>\n",
       "    </tr>\n",
       "    <tr>\n",
       "      <th>49</th>\n",
       "      <td>“Love does not begin and end the way we seem t...</td>\n",
       "      <td>0.500000</td>\n",
       "      <td>0.600000</td>\n",
       "      <td>0.342</td>\n",
       "      <td>0.156</td>\n",
       "      <td>0.502</td>\n",
       "      <td>0.8316</td>\n",
       "    </tr>\n",
       "    <tr>\n",
       "      <th>94</th>\n",
       "      <td>“But better to get hurt by the truth than comf...</td>\n",
       "      <td>0.500000</td>\n",
       "      <td>0.500000</td>\n",
       "      <td>0.392</td>\n",
       "      <td>0.167</td>\n",
       "      <td>0.441</td>\n",
       "      <td>0.5574</td>\n",
       "    </tr>\n",
       "  </tbody>\n",
       "</table>\n",
       "</div>"
      ],
      "text/plain": [
       "                                                quote  polarity  subjectivity  \\\n",
       "18  “Good friends, good books, and a sleepy consci...  0.766667      0.733333   \n",
       "49  “Love does not begin and end the way we seem t...  0.500000      0.600000   \n",
       "94  “But better to get hurt by the truth than comf...  0.500000      0.500000   \n",
       "\n",
       "    positive  negative  neutral  compound  \n",
       "18     0.485     0.000    0.515    0.8555  \n",
       "49     0.342     0.156    0.502    0.8316  \n",
       "94     0.392     0.167    0.441    0.5574  "
      ]
     },
     "execution_count": 13,
     "metadata": {},
     "output_type": "execute_result"
    }
   ],
   "source": [
    "positiveQuotes = quotes.query(\"positive >= 0.3 and polarity >= 0.5\")\n",
    "positiveQuotes"
   ]
  },
  {
   "cell_type": "code",
   "execution_count": 14,
   "id": "1a0384ac-88c0-474e-9591-d8880173738c",
   "metadata": {},
   "outputs": [
    {
     "data": {
      "text/html": [
       "<div>\n",
       "<style scoped>\n",
       "    .dataframe tbody tr th:only-of-type {\n",
       "        vertical-align: middle;\n",
       "    }\n",
       "\n",
       "    .dataframe tbody tr th {\n",
       "        vertical-align: top;\n",
       "    }\n",
       "\n",
       "    .dataframe thead th {\n",
       "        text-align: right;\n",
       "    }\n",
       "</style>\n",
       "<table border=\"1\" class=\"dataframe\">\n",
       "  <thead>\n",
       "    <tr style=\"text-align: right;\">\n",
       "      <th></th>\n",
       "      <th>quote</th>\n",
       "      <th>polarity</th>\n",
       "      <th>positive</th>\n",
       "    </tr>\n",
       "  </thead>\n",
       "  <tbody>\n",
       "    <tr>\n",
       "      <th>18</th>\n",
       "      <td>“Good friends, good books, and a sleepy consci...</td>\n",
       "      <td>0.766667</td>\n",
       "      <td>0.485</td>\n",
       "    </tr>\n",
       "    <tr>\n",
       "      <th>49</th>\n",
       "      <td>“Love does not begin and end the way we seem t...</td>\n",
       "      <td>0.500000</td>\n",
       "      <td>0.342</td>\n",
       "    </tr>\n",
       "    <tr>\n",
       "      <th>94</th>\n",
       "      <td>“But better to get hurt by the truth than comf...</td>\n",
       "      <td>0.500000</td>\n",
       "      <td>0.392</td>\n",
       "    </tr>\n",
       "  </tbody>\n",
       "</table>\n",
       "</div>"
      ],
      "text/plain": [
       "                                                quote  polarity  positive\n",
       "18  “Good friends, good books, and a sleepy consci...  0.766667     0.485\n",
       "49  “Love does not begin and end the way we seem t...  0.500000     0.342\n",
       "94  “But better to get hurt by the truth than comf...  0.500000     0.392"
      ]
     },
     "execution_count": 14,
     "metadata": {},
     "output_type": "execute_result"
    }
   ],
   "source": [
    "positiveQuotes[['quote','polarity','positive']]"
   ]
  },
  {
   "cell_type": "code",
   "execution_count": 15,
   "id": "cac66f45-5f1e-4b7e-9c65-da6366f9ea16",
   "metadata": {},
   "outputs": [
    {
     "data": {
      "text/html": [
       "<div>\n",
       "<style scoped>\n",
       "    .dataframe tbody tr th:only-of-type {\n",
       "        vertical-align: middle;\n",
       "    }\n",
       "\n",
       "    .dataframe tbody tr th {\n",
       "        vertical-align: top;\n",
       "    }\n",
       "\n",
       "    .dataframe thead th {\n",
       "        text-align: right;\n",
       "    }\n",
       "</style>\n",
       "<table border=\"1\" class=\"dataframe\">\n",
       "  <thead>\n",
       "    <tr style=\"text-align: right;\">\n",
       "      <th></th>\n",
       "      <th>quote</th>\n",
       "      <th>polarity</th>\n",
       "      <th>subjectivity</th>\n",
       "      <th>positive</th>\n",
       "      <th>negative</th>\n",
       "      <th>neutral</th>\n",
       "      <th>compound</th>\n",
       "    </tr>\n",
       "  </thead>\n",
       "  <tbody>\n",
       "    <tr>\n",
       "      <th>0</th>\n",
       "      <td>“The world as we have created it is a process ...</td>\n",
       "      <td>0.000000</td>\n",
       "      <td>0.000000</td>\n",
       "      <td>0.091</td>\n",
       "      <td>0.000</td>\n",
       "      <td>0.909</td>\n",
       "      <td>0.2500</td>\n",
       "    </tr>\n",
       "    <tr>\n",
       "      <th>1</th>\n",
       "      <td>“It is our choices, Harry, that show what we t...</td>\n",
       "      <td>0.300000</td>\n",
       "      <td>0.750000</td>\n",
       "      <td>0.162</td>\n",
       "      <td>0.000</td>\n",
       "      <td>0.838</td>\n",
       "      <td>0.4404</td>\n",
       "    </tr>\n",
       "    <tr>\n",
       "      <th>2</th>\n",
       "      <td>“There are only two ways to live your life. On...</td>\n",
       "      <td>0.003788</td>\n",
       "      <td>0.625000</td>\n",
       "      <td>0.000</td>\n",
       "      <td>0.109</td>\n",
       "      <td>0.891</td>\n",
       "      <td>-0.4717</td>\n",
       "    </tr>\n",
       "    <tr>\n",
       "      <th>3</th>\n",
       "      <td>“The person, be it gentleman or lady, who has ...</td>\n",
       "      <td>-0.050000</td>\n",
       "      <td>0.800000</td>\n",
       "      <td>0.215</td>\n",
       "      <td>0.124</td>\n",
       "      <td>0.661</td>\n",
       "      <td>0.2964</td>\n",
       "    </tr>\n",
       "    <tr>\n",
       "      <th>4</th>\n",
       "      <td>“Imperfection is beauty, madness is genius and...</td>\n",
       "      <td>-0.277778</td>\n",
       "      <td>0.833333</td>\n",
       "      <td>0.275</td>\n",
       "      <td>0.233</td>\n",
       "      <td>0.492</td>\n",
       "      <td>0.2516</td>\n",
       "    </tr>\n",
       "  </tbody>\n",
       "</table>\n",
       "</div>"
      ],
      "text/plain": [
       "                                               quote  polarity  subjectivity  \\\n",
       "0  “The world as we have created it is a process ...  0.000000      0.000000   \n",
       "1  “It is our choices, Harry, that show what we t...  0.300000      0.750000   \n",
       "2  “There are only two ways to live your life. On...  0.003788      0.625000   \n",
       "3  “The person, be it gentleman or lady, who has ... -0.050000      0.800000   \n",
       "4  “Imperfection is beauty, madness is genius and... -0.277778      0.833333   \n",
       "\n",
       "   positive  negative  neutral  compound  \n",
       "0     0.091     0.000    0.909    0.2500  \n",
       "1     0.162     0.000    0.838    0.4404  \n",
       "2     0.000     0.109    0.891   -0.4717  \n",
       "3     0.215     0.124    0.661    0.2964  \n",
       "4     0.275     0.233    0.492    0.2516  "
      ]
     },
     "execution_count": 15,
     "metadata": {},
     "output_type": "execute_result"
    }
   ],
   "source": [
    "negativeQuotes = quotes.query(\"negative <= 0.3 and polarity <= 0.5\")\n",
    "negativeQuotes.head()"
   ]
  },
  {
   "cell_type": "code",
   "execution_count": 16,
   "id": "bb71910f-9c09-4594-a6fe-f1c24458a51a",
   "metadata": {},
   "outputs": [
    {
     "data": {
      "text/html": [
       "<div>\n",
       "<style scoped>\n",
       "    .dataframe tbody tr th:only-of-type {\n",
       "        vertical-align: middle;\n",
       "    }\n",
       "\n",
       "    .dataframe tbody tr th {\n",
       "        vertical-align: top;\n",
       "    }\n",
       "\n",
       "    .dataframe thead th {\n",
       "        text-align: right;\n",
       "    }\n",
       "</style>\n",
       "<table border=\"1\" class=\"dataframe\">\n",
       "  <thead>\n",
       "    <tr style=\"text-align: right;\">\n",
       "      <th></th>\n",
       "      <th>quote</th>\n",
       "      <th>polarity</th>\n",
       "      <th>positive</th>\n",
       "    </tr>\n",
       "  </thead>\n",
       "  <tbody>\n",
       "    <tr>\n",
       "      <th>0</th>\n",
       "      <td>“The world as we have created it is a process ...</td>\n",
       "      <td>0.000000</td>\n",
       "      <td>0.091</td>\n",
       "    </tr>\n",
       "    <tr>\n",
       "      <th>1</th>\n",
       "      <td>“It is our choices, Harry, that show what we t...</td>\n",
       "      <td>0.300000</td>\n",
       "      <td>0.162</td>\n",
       "    </tr>\n",
       "    <tr>\n",
       "      <th>2</th>\n",
       "      <td>“There are only two ways to live your life. On...</td>\n",
       "      <td>0.003788</td>\n",
       "      <td>0.000</td>\n",
       "    </tr>\n",
       "    <tr>\n",
       "      <th>3</th>\n",
       "      <td>“The person, be it gentleman or lady, who has ...</td>\n",
       "      <td>-0.050000</td>\n",
       "      <td>0.215</td>\n",
       "    </tr>\n",
       "    <tr>\n",
       "      <th>4</th>\n",
       "      <td>“Imperfection is beauty, madness is genius and...</td>\n",
       "      <td>-0.277778</td>\n",
       "      <td>0.275</td>\n",
       "    </tr>\n",
       "  </tbody>\n",
       "</table>\n",
       "</div>"
      ],
      "text/plain": [
       "                                               quote  polarity  positive\n",
       "0  “The world as we have created it is a process ...  0.000000     0.091\n",
       "1  “It is our choices, Harry, that show what we t...  0.300000     0.162\n",
       "2  “There are only two ways to live your life. On...  0.003788     0.000\n",
       "3  “The person, be it gentleman or lady, who has ... -0.050000     0.215\n",
       "4  “Imperfection is beauty, madness is genius and... -0.277778     0.275"
      ]
     },
     "execution_count": 16,
     "metadata": {},
     "output_type": "execute_result"
    }
   ],
   "source": [
    "negativeQuotes[['quote','polarity','positive']].head()"
   ]
  },
  {
   "cell_type": "code",
   "execution_count": 17,
   "id": "3572a942-ceea-45f3-abcb-c6ae32d02419",
   "metadata": {},
   "outputs": [
    {
     "data": {
      "text/html": [
       "<div>\n",
       "<style scoped>\n",
       "    .dataframe tbody tr th:only-of-type {\n",
       "        vertical-align: middle;\n",
       "    }\n",
       "\n",
       "    .dataframe tbody tr th {\n",
       "        vertical-align: top;\n",
       "    }\n",
       "\n",
       "    .dataframe thead th {\n",
       "        text-align: right;\n",
       "    }\n",
       "</style>\n",
       "<table border=\"1\" class=\"dataframe\">\n",
       "  <thead>\n",
       "    <tr style=\"text-align: right;\">\n",
       "      <th></th>\n",
       "      <th>polarity</th>\n",
       "      <th>subjectivity</th>\n",
       "      <th>positive</th>\n",
       "      <th>negative</th>\n",
       "      <th>neutral</th>\n",
       "      <th>compound</th>\n",
       "    </tr>\n",
       "  </thead>\n",
       "  <tbody>\n",
       "    <tr>\n",
       "      <th>count</th>\n",
       "      <td>100.000000</td>\n",
       "      <td>100.000000</td>\n",
       "      <td>100.000000</td>\n",
       "      <td>100.000000</td>\n",
       "      <td>100.000000</td>\n",
       "      <td>100.000000</td>\n",
       "    </tr>\n",
       "    <tr>\n",
       "      <th>mean</th>\n",
       "      <td>0.107863</td>\n",
       "      <td>0.446212</td>\n",
       "      <td>0.138930</td>\n",
       "      <td>0.090630</td>\n",
       "      <td>0.770490</td>\n",
       "      <td>0.160769</td>\n",
       "    </tr>\n",
       "    <tr>\n",
       "      <th>std</th>\n",
       "      <td>0.254294</td>\n",
       "      <td>0.319113</td>\n",
       "      <td>0.134112</td>\n",
       "      <td>0.109208</td>\n",
       "      <td>0.167939</td>\n",
       "      <td>0.481998</td>\n",
       "    </tr>\n",
       "    <tr>\n",
       "      <th>min</th>\n",
       "      <td>-0.800000</td>\n",
       "      <td>0.000000</td>\n",
       "      <td>0.000000</td>\n",
       "      <td>0.000000</td>\n",
       "      <td>0.430000</td>\n",
       "      <td>-0.918900</td>\n",
       "    </tr>\n",
       "    <tr>\n",
       "      <th>25%</th>\n",
       "      <td>0.000000</td>\n",
       "      <td>0.150000</td>\n",
       "      <td>0.000000</td>\n",
       "      <td>0.000000</td>\n",
       "      <td>0.641250</td>\n",
       "      <td>-0.033450</td>\n",
       "    </tr>\n",
       "    <tr>\n",
       "      <th>50%</th>\n",
       "      <td>0.050481</td>\n",
       "      <td>0.496875</td>\n",
       "      <td>0.133500</td>\n",
       "      <td>0.058500</td>\n",
       "      <td>0.769000</td>\n",
       "      <td>0.042650</td>\n",
       "    </tr>\n",
       "    <tr>\n",
       "      <th>75%</th>\n",
       "      <td>0.261719</td>\n",
       "      <td>0.637500</td>\n",
       "      <td>0.234250</td>\n",
       "      <td>0.152250</td>\n",
       "      <td>0.909750</td>\n",
       "      <td>0.509775</td>\n",
       "    </tr>\n",
       "    <tr>\n",
       "      <th>max</th>\n",
       "      <td>0.766667</td>\n",
       "      <td>1.000000</td>\n",
       "      <td>0.485000</td>\n",
       "      <td>0.425000</td>\n",
       "      <td>1.000000</td>\n",
       "      <td>0.995100</td>\n",
       "    </tr>\n",
       "  </tbody>\n",
       "</table>\n",
       "</div>"
      ],
      "text/plain": [
       "         polarity  subjectivity    positive    negative     neutral  \\\n",
       "count  100.000000    100.000000  100.000000  100.000000  100.000000   \n",
       "mean     0.107863      0.446212    0.138930    0.090630    0.770490   \n",
       "std      0.254294      0.319113    0.134112    0.109208    0.167939   \n",
       "min     -0.800000      0.000000    0.000000    0.000000    0.430000   \n",
       "25%      0.000000      0.150000    0.000000    0.000000    0.641250   \n",
       "50%      0.050481      0.496875    0.133500    0.058500    0.769000   \n",
       "75%      0.261719      0.637500    0.234250    0.152250    0.909750   \n",
       "max      0.766667      1.000000    0.485000    0.425000    1.000000   \n",
       "\n",
       "         compound  \n",
       "count  100.000000  \n",
       "mean     0.160769  \n",
       "std      0.481998  \n",
       "min     -0.918900  \n",
       "25%     -0.033450  \n",
       "50%      0.042650  \n",
       "75%      0.509775  \n",
       "max      0.995100  "
      ]
     },
     "execution_count": 17,
     "metadata": {},
     "output_type": "execute_result"
    }
   ],
   "source": [
    "quotes.describe()"
   ]
  },
  {
   "cell_type": "markdown",
   "id": "76f9b5c4-3c1e-4514-a45b-d75d58566078",
   "metadata": {},
   "source": [
    "## Text Analysis"
   ]
  },
  {
   "cell_type": "code",
   "execution_count": 18,
   "id": "c1004ceb-12a5-4123-9485-eca3a67c4b69",
   "metadata": {},
   "outputs": [],
   "source": [
    "from textblob import TextBlob\n",
    "import nltk\n",
    "from nltk.corpus import stopwords\n",
    "from collections import Counter\n",
    "from textstat import flesch_reading_ease"
   ]
  },
  {
   "cell_type": "code",
   "execution_count": 19,
   "id": "1f178c8c-48e9-4e6e-b286-6f7fc670a55d",
   "metadata": {},
   "outputs": [],
   "source": [
    "# Download NLTK resources (uncomment if not downloaded)\n",
    "# nltk.download('punkt')\n",
    "# nltk.download('stopwords')"
   ]
  },
  {
   "cell_type": "code",
   "execution_count": 20,
   "id": "659492ca-bb27-43b5-838e-6e2b3470a76c",
   "metadata": {},
   "outputs": [],
   "source": [
    "# Load data from CSV files\n",
    "quotes_df = pd.read_csv('quotes.csv')"
   ]
  },
  {
   "cell_type": "code",
   "execution_count": 21,
   "id": "80745c3b-a6fa-4dcd-bc35-4b6d88144cde",
   "metadata": {},
   "outputs": [],
   "source": [
    "# Perform sentiment analysis\n",
    "sentiments = []\n",
    "for quote in quotes_df['quote']:\n",
    "    blob = TextBlob(quote)\n",
    "    sentiments.append(blob.sentiment.polarity)"
   ]
  },
  {
   "cell_type": "code",
   "execution_count": 22,
   "id": "fb473097-0fa1-4c3f-ad5e-92888fd56667",
   "metadata": {},
   "outputs": [],
   "source": [
    "# Determine overall sentiment\n",
    "overall_sentiment = sum(sentiments) / len(sentiments)"
   ]
  },
  {
   "cell_type": "code",
   "execution_count": 23,
   "id": "4bb50b65-f481-4a34-9bdf-99972fbeea79",
   "metadata": {},
   "outputs": [],
   "source": [
    "# Tokenize the quotes and remove stopwords\n",
    "stop_words = set(stopwords.words('english'))\n",
    "word_tokens = nltk.word_tokenize(' '.join(quotes_df['quote']).lower())\n",
    "filtered_tokens = [word for word in word_tokens if word.isalnum() and word not in stop_words]"
   ]
  },
  {
   "cell_type": "code",
   "execution_count": 24,
   "id": "1d672902-4bab-4b85-825b-503038f92111",
   "metadata": {},
   "outputs": [
    {
     "name": "stdout",
     "output_type": "stream",
     "text": [
      "Overall sentiment: 0.10786328241203245\n",
      "Top 10 most frequent words: [('love', 20), ('one', 13), ('never', 13), ('think', 12), ('life', 11), ('make', 10), ('like', 9), ('good', 8), ('live', 7), ('know', 7)]\n",
      "Readability score: 83.46\n"
     ]
    }
   ],
   "source": [
    "# Identify frequently used words\n",
    "word_freq = Counter(filtered_tokens).most_common(10)\n",
    "\n",
    "# Determine readability level\n",
    "readability_score = flesch_reading_ease(' '.join(quotes_df['quote']))\n",
    "\n",
    "# Display results\n",
    "print(\"Overall sentiment:\", overall_sentiment)\n",
    "print(\"Top 10 most frequent words:\", word_freq)\n",
    "print(\"Readability score:\", readability_score)"
   ]
  },
  {
   "cell_type": "code",
   "execution_count": null,
   "id": "ee5f8f2a-3821-4184-80c4-5c3fe52f5c34",
   "metadata": {},
   "outputs": [],
   "source": []
  }
 ],
 "metadata": {
  "kernelspec": {
   "display_name": "Python 3 (ipykernel)",
   "language": "python",
   "name": "python3"
  },
  "language_info": {
   "codemirror_mode": {
    "name": "ipython",
    "version": 3
   },
   "file_extension": ".py",
   "mimetype": "text/x-python",
   "name": "python",
   "nbconvert_exporter": "python",
   "pygments_lexer": "ipython3",
   "version": "3.10.12"
  }
 },
 "nbformat": 4,
 "nbformat_minor": 5
}
