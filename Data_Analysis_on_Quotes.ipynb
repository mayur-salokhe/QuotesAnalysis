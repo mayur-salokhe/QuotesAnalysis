{
 "cells": [
  {
   "cell_type": "markdown",
   "id": "5fd0c95d-646a-4bf4-ad7a-70f66ad73377",
   "metadata": {},
   "source": [
    "# Quotes Analysis"
   ]
  },
  {
   "cell_type": "markdown",
   "id": "5555880d-254b-4b58-aeda-9a225908aacc",
   "metadata": {},
   "source": [
    "Matplotlib is a Python library used for creating static, interactive, and animated\n",
    "visualizations in Python. It offers a wide range of plotting functions for various types of\n",
    "charts, including line plots, bar charts, histograms, scatter plots, and more. Matplotlib can\n",
    "work seamlessly with Pandas"
   ]
  },
  {
   "cell_type": "markdown",
   "id": "452b4179-4813-409a-8ad2-008d217c0036",
   "metadata": {},
   "source": [
    "## Import Matploplib"
   ]
  },
  {
   "cell_type": "code",
   "execution_count": 1,
   "id": "cf7c1556-aafc-4e02-8189-cf984fe8a84c",
   "metadata": {},
   "outputs": [],
   "source": [
    "import matplotlib.pyplot as plt"
   ]
  },
  {
   "cell_type": "markdown",
   "id": "7ee13998-d939-45fe-b2e6-2fd0026589bd",
   "metadata": {},
   "source": [
    "## Loading Data to Pandas"
   ]
  },
  {
   "cell_type": "code",
   "execution_count": 2,
   "id": "d21e040f-cb56-4788-a445-a74759e08528",
   "metadata": {},
   "outputs": [],
   "source": [
    "import pandas as pd\n",
    "# Reading data from a CSV file into a DataFrame\n",
    "quotes_df = pd.read_csv('quotes.csv')\n",
    "authors_df = pd.read_csv('authors.csv')"
   ]
  },
  {
   "cell_type": "code",
   "execution_count": 3,
   "id": "19545adf-0094-4318-802b-5c4dbfd06d61",
   "metadata": {},
   "outputs": [
    {
     "data": {
      "text/html": [
       "<div>\n",
       "<style scoped>\n",
       "    .dataframe tbody tr th:only-of-type {\n",
       "        vertical-align: middle;\n",
       "    }\n",
       "\n",
       "    .dataframe tbody tr th {\n",
       "        vertical-align: top;\n",
       "    }\n",
       "\n",
       "    .dataframe thead th {\n",
       "        text-align: right;\n",
       "    }\n",
       "</style>\n",
       "<table border=\"1\" class=\"dataframe\">\n",
       "  <thead>\n",
       "    <tr style=\"text-align: right;\">\n",
       "      <th></th>\n",
       "      <th>id</th>\n",
       "      <th>author</th>\n",
       "      <th>quote</th>\n",
       "      <th>tags</th>\n",
       "    </tr>\n",
       "  </thead>\n",
       "  <tbody>\n",
       "    <tr>\n",
       "      <th>0</th>\n",
       "      <td>1</td>\n",
       "      <td>Albert Einstein</td>\n",
       "      <td>“The world as we have created it is a process ...</td>\n",
       "      <td>change,deep-thoughts,thinking,world</td>\n",
       "    </tr>\n",
       "    <tr>\n",
       "      <th>1</th>\n",
       "      <td>2</td>\n",
       "      <td>J.K. Rowling</td>\n",
       "      <td>“It is our choices, Harry, that show what we t...</td>\n",
       "      <td>abilities,choices</td>\n",
       "    </tr>\n",
       "    <tr>\n",
       "      <th>2</th>\n",
       "      <td>3</td>\n",
       "      <td>Albert Einstein</td>\n",
       "      <td>“There are only two ways to live your life. On...</td>\n",
       "      <td>inspirational,life,live,miracle,miracles</td>\n",
       "    </tr>\n",
       "    <tr>\n",
       "      <th>3</th>\n",
       "      <td>4</td>\n",
       "      <td>Jane Austen</td>\n",
       "      <td>“The person, be it gentleman or lady, who has ...</td>\n",
       "      <td>aliteracy,books,classic,humor</td>\n",
       "    </tr>\n",
       "    <tr>\n",
       "      <th>4</th>\n",
       "      <td>5</td>\n",
       "      <td>Marilyn Monroe</td>\n",
       "      <td>“Imperfection is beauty, madness is genius and...</td>\n",
       "      <td>be-yourself,inspirational</td>\n",
       "    </tr>\n",
       "  </tbody>\n",
       "</table>\n",
       "</div>"
      ],
      "text/plain": [
       "   id           author                                              quote  \\\n",
       "0   1  Albert Einstein  “The world as we have created it is a process ...   \n",
       "1   2     J.K. Rowling  “It is our choices, Harry, that show what we t...   \n",
       "2   3  Albert Einstein  “There are only two ways to live your life. On...   \n",
       "3   4      Jane Austen  “The person, be it gentleman or lady, who has ...   \n",
       "4   5   Marilyn Monroe  “Imperfection is beauty, madness is genius and...   \n",
       "\n",
       "                                       tags  \n",
       "0       change,deep-thoughts,thinking,world  \n",
       "1                         abilities,choices  \n",
       "2  inspirational,life,live,miracle,miracles  \n",
       "3             aliteracy,books,classic,humor  \n",
       "4                 be-yourself,inspirational  "
      ]
     },
     "execution_count": 3,
     "metadata": {},
     "output_type": "execute_result"
    }
   ],
   "source": [
    "quotes_df.head()"
   ]
  },
  {
   "cell_type": "code",
   "execution_count": 4,
   "id": "95e55143-0e5c-4b41-b6cb-b644e3ae160b",
   "metadata": {},
   "outputs": [
    {
     "data": {
      "text/html": [
       "<div>\n",
       "<style scoped>\n",
       "    .dataframe tbody tr th:only-of-type {\n",
       "        vertical-align: middle;\n",
       "    }\n",
       "\n",
       "    .dataframe tbody tr th {\n",
       "        vertical-align: top;\n",
       "    }\n",
       "\n",
       "    .dataframe thead th {\n",
       "        text-align: right;\n",
       "    }\n",
       "</style>\n",
       "<table border=\"1\" class=\"dataframe\">\n",
       "  <thead>\n",
       "    <tr style=\"text-align: right;\">\n",
       "      <th></th>\n",
       "      <th>author</th>\n",
       "      <th>born_date</th>\n",
       "      <th>born_location</th>\n",
       "    </tr>\n",
       "  </thead>\n",
       "  <tbody>\n",
       "    <tr>\n",
       "      <th>0</th>\n",
       "      <td>Albert Einstein</td>\n",
       "      <td>March 14, 1879</td>\n",
       "      <td>Ulm, Germany</td>\n",
       "    </tr>\n",
       "    <tr>\n",
       "      <th>1</th>\n",
       "      <td>J.K. Rowling</td>\n",
       "      <td>July 31, 1965</td>\n",
       "      <td>Yate, South Gloucestershire, England, The Unit...</td>\n",
       "    </tr>\n",
       "    <tr>\n",
       "      <th>2</th>\n",
       "      <td>Jane Austen</td>\n",
       "      <td>December 16, 1775</td>\n",
       "      <td>Steventon Rectory, Hampshire, The United Kgdom</td>\n",
       "    </tr>\n",
       "    <tr>\n",
       "      <th>3</th>\n",
       "      <td>Marilyn Monroe</td>\n",
       "      <td>June 01, 1926</td>\n",
       "      <td>The United States</td>\n",
       "    </tr>\n",
       "    <tr>\n",
       "      <th>4</th>\n",
       "      <td>André Gide</td>\n",
       "      <td>November 22, 1869</td>\n",
       "      <td>Paris, France</td>\n",
       "    </tr>\n",
       "  </tbody>\n",
       "</table>\n",
       "</div>"
      ],
      "text/plain": [
       "            author          born_date  \\\n",
       "0  Albert Einstein     March 14, 1879   \n",
       "1     J.K. Rowling      July 31, 1965   \n",
       "2      Jane Austen  December 16, 1775   \n",
       "3   Marilyn Monroe      June 01, 1926   \n",
       "4       André Gide  November 22, 1869   \n",
       "\n",
       "                                       born_location  \n",
       "0                                       Ulm, Germany  \n",
       "1  Yate, South Gloucestershire, England, The Unit...  \n",
       "2     Steventon Rectory, Hampshire, The United Kgdom  \n",
       "3                                  The United States  \n",
       "4                                      Paris, France  "
      ]
     },
     "execution_count": 4,
     "metadata": {},
     "output_type": "execute_result"
    }
   ],
   "source": [
    "authors_df.head()"
   ]
  },
  {
   "cell_type": "markdown",
   "id": "ea520a74-1061-491e-8112-38f13e139a88",
   "metadata": {},
   "source": [
    "## Author Productivity: \n",
    "Identify the most prolific authors by counting the number of quotes associated with each author in the \"quotes\" table."
   ]
  },
  {
   "cell_type": "markdown",
   "id": "1c63ee19-7684-41b8-8136-a60b41028280",
   "metadata": {},
   "source": [
    "### Author productivity analysis (number of quotes per author)"
   ]
  },
  {
   "cell_type": "code",
   "execution_count": 5,
   "id": "c7a38e5e-422c-4669-bf99-a370df3eaf1f",
   "metadata": {},
   "outputs": [
    {
     "name": "stdout",
     "output_type": "stream",
     "text": [
      "                    author  no_of_quotes\n",
      "0          Albert Einstein            10\n",
      "1             J.K. Rowling             9\n",
      "2           Marilyn Monroe             7\n",
      "3                Dr. Seuss             6\n",
      "4               Mark Twain             6\n",
      "5               C.S. Lewis             5\n",
      "6              Jane Austen             5\n",
      "7               Bob Marley             3\n",
      "8        Eleanor Roosevelt             2\n",
      "9         Charles Bukowski             2\n",
      "10         Suzanne Collins             2\n",
      "11      George R.R. Martin             2\n",
      "12     Ralph Waldo Emerson             2\n",
      "13           Mother Teresa             2\n",
      "14        Ernest Hemingway             2\n",
      "15           J.D. Salinger             1\n",
      "16     George Bernard Shaw             1\n",
      "17          J.R.R. Tolkien             1\n",
      "18         Alfred Tennyson             1\n",
      "19         Terry Pratchett             1\n",
      "20             John Lennon             1\n",
      "21           George Carlin             1\n",
      "22             W.C. Fields             1\n",
      "23                Ayn Rand             1\n",
      "24            Jimi Hendrix             1\n",
      "25             J.M. Barrie             1\n",
      "26           E.E. Cummings             1\n",
      "27         Khaled Hosseini             1\n",
      "28              Harper Lee             1\n",
      "29            Helen Keller             1\n",
      "30         Haruki Murakami             1\n",
      "31         Stephenie Meyer             1\n",
      "32        Garrison Keillor             1\n",
      "33        Thomas A. Edison             1\n",
      "34           Douglas Adams             1\n",
      "35             Elie Wiesel             1\n",
      "36     Friedrich Nietzsche             1\n",
      "37              André Gide             1\n",
      "38          Allen Saunders             1\n",
      "39            Pablo Neruda             1\n",
      "40              Jim Henson             1\n",
      "41    Alexandre Dumas fils             1\n",
      "42       Charles M. Schulz             1\n",
      "43       William Nicholson             1\n",
      "44       Jorge Luis Borges             1\n",
      "45            George Eliot             1\n",
      "46  Martin Luther King Jr.             1\n",
      "47           James Baldwin             1\n",
      "48            Steve Martin             1\n",
      "49       Madeleine L'Engle             1\n"
     ]
    }
   ],
   "source": [
    "author_productivity = quotes_df['author'].value_counts().reset_index(name='no_of_quotes')\n",
    "\n",
    "print(author_productivity)"
   ]
  },
  {
   "cell_type": "markdown",
   "id": "88a5ef22-fbe8-4eba-aa88-23c9ff3baebb",
   "metadata": {},
   "source": [
    "### Filter for authors with more than 1 quote"
   ]
  },
  {
   "cell_type": "code",
   "execution_count": 6,
   "id": "bd470917-66e1-4ef3-84c3-e3808866c972",
   "metadata": {},
   "outputs": [
    {
     "data": {
      "text/html": [
       "<div>\n",
       "<style scoped>\n",
       "    .dataframe tbody tr th:only-of-type {\n",
       "        vertical-align: middle;\n",
       "    }\n",
       "\n",
       "    .dataframe tbody tr th {\n",
       "        vertical-align: top;\n",
       "    }\n",
       "\n",
       "    .dataframe thead th {\n",
       "        text-align: right;\n",
       "    }\n",
       "</style>\n",
       "<table border=\"1\" class=\"dataframe\">\n",
       "  <thead>\n",
       "    <tr style=\"text-align: right;\">\n",
       "      <th></th>\n",
       "      <th>author</th>\n",
       "      <th>no_of_quotes</th>\n",
       "    </tr>\n",
       "  </thead>\n",
       "  <tbody>\n",
       "    <tr>\n",
       "      <th>0</th>\n",
       "      <td>Albert Einstein</td>\n",
       "      <td>10</td>\n",
       "    </tr>\n",
       "    <tr>\n",
       "      <th>1</th>\n",
       "      <td>J.K. Rowling</td>\n",
       "      <td>9</td>\n",
       "    </tr>\n",
       "    <tr>\n",
       "      <th>2</th>\n",
       "      <td>Marilyn Monroe</td>\n",
       "      <td>7</td>\n",
       "    </tr>\n",
       "    <tr>\n",
       "      <th>3</th>\n",
       "      <td>Dr. Seuss</td>\n",
       "      <td>6</td>\n",
       "    </tr>\n",
       "    <tr>\n",
       "      <th>4</th>\n",
       "      <td>Mark Twain</td>\n",
       "      <td>6</td>\n",
       "    </tr>\n",
       "    <tr>\n",
       "      <th>5</th>\n",
       "      <td>C.S. Lewis</td>\n",
       "      <td>5</td>\n",
       "    </tr>\n",
       "    <tr>\n",
       "      <th>6</th>\n",
       "      <td>Jane Austen</td>\n",
       "      <td>5</td>\n",
       "    </tr>\n",
       "    <tr>\n",
       "      <th>7</th>\n",
       "      <td>Bob Marley</td>\n",
       "      <td>3</td>\n",
       "    </tr>\n",
       "    <tr>\n",
       "      <th>8</th>\n",
       "      <td>Eleanor Roosevelt</td>\n",
       "      <td>2</td>\n",
       "    </tr>\n",
       "    <tr>\n",
       "      <th>9</th>\n",
       "      <td>Charles Bukowski</td>\n",
       "      <td>2</td>\n",
       "    </tr>\n",
       "    <tr>\n",
       "      <th>10</th>\n",
       "      <td>Suzanne Collins</td>\n",
       "      <td>2</td>\n",
       "    </tr>\n",
       "    <tr>\n",
       "      <th>11</th>\n",
       "      <td>George R.R. Martin</td>\n",
       "      <td>2</td>\n",
       "    </tr>\n",
       "    <tr>\n",
       "      <th>12</th>\n",
       "      <td>Ralph Waldo Emerson</td>\n",
       "      <td>2</td>\n",
       "    </tr>\n",
       "    <tr>\n",
       "      <th>13</th>\n",
       "      <td>Mother Teresa</td>\n",
       "      <td>2</td>\n",
       "    </tr>\n",
       "    <tr>\n",
       "      <th>14</th>\n",
       "      <td>Ernest Hemingway</td>\n",
       "      <td>2</td>\n",
       "    </tr>\n",
       "  </tbody>\n",
       "</table>\n",
       "</div>"
      ],
      "text/plain": [
       "                 author  no_of_quotes\n",
       "0       Albert Einstein            10\n",
       "1          J.K. Rowling             9\n",
       "2        Marilyn Monroe             7\n",
       "3             Dr. Seuss             6\n",
       "4            Mark Twain             6\n",
       "5            C.S. Lewis             5\n",
       "6           Jane Austen             5\n",
       "7            Bob Marley             3\n",
       "8     Eleanor Roosevelt             2\n",
       "9      Charles Bukowski             2\n",
       "10      Suzanne Collins             2\n",
       "11   George R.R. Martin             2\n",
       "12  Ralph Waldo Emerson             2\n",
       "13        Mother Teresa             2\n",
       "14     Ernest Hemingway             2"
      ]
     },
     "execution_count": 6,
     "metadata": {},
     "output_type": "execute_result"
    }
   ],
   "source": [
    "authors_with_multiple_quotes = quotes_df['author'].value_counts()[quotes_df['author'].value_counts() > 1].reset_index(name='no_of_quotes')\n",
    "authors_with_multiple_quotes"
   ]
  },
  {
   "cell_type": "markdown",
   "id": "1c9a15cf-c1cd-44fe-9060-9eea31feb187",
   "metadata": {},
   "source": [
    "### Data Visualization - Bar Chart"
   ]
  },
  {
   "cell_type": "code",
   "execution_count": 7,
   "id": "6b614adc-1d6a-4b09-8a1c-51f31cf0c49e",
   "metadata": {},
   "outputs": [
    {
     "data": {
      "image/png": "[encoded data removed]",
      "text/plain": [
       "<Figure size 800x600 with 1 Axes>"
      ]
     },
     "metadata": {},
     "output_type": "display_data"
    }
   ],
   "source": [
    "plt.figure(figsize=(8, 6))\n",
    "plt.barh(authors_with_multiple_quotes['author'], authors_with_multiple_quotes['no_of_quotes']) \n",
    "plt.xlabel(\"Number of Quotes\")  \n",
    "plt.ylabel(\"Author\") \n",
    "plt.title(\"Author Productivity (More than 1 Quote)\")\n",
    "plt.tight_layout()\n",
    "plt.show()"
   ]
  },
  {
   "cell_type": "markdown",
   "id": "5f4c8c8f-7b96-491a-afd0-9ff3566769b6",
   "metadata": {},
   "source": [
    "### Data Visualization - Pie Chart"
   ]
  },
  {
   "cell_type": "code",
   "execution_count": 8,
   "id": "fcb40394-605a-4675-af75-9514cf84f192",
   "metadata": {},
   "outputs": [
    {
     "data": {
      "image/png": "[encoded data removed]",
      "text/plain": [
       "<Figure size 600x600 with 1 Axes>"
      ]
     },
     "metadata": {},
     "output_type": "display_data"
    }
   ],
   "source": [
    "plt.figure(figsize=(6, 6))\n",
    "plt.pie(authors_with_multiple_quotes['no_of_quotes'], labels=authors_with_multiple_quotes['author'], autopct=\"%1.1f%%\")\n",
    "plt.title(\"Author Productivity (Pie Chart)\")\n",
    "plt.tight_layout()\n",
    "plt.show()"
   ]
  },
  {
   "cell_type": "markdown",
   "id": "4849a566-af98-40ea-a0f4-fea5078c8ef8",
   "metadata": {},
   "source": [
    "### Quote Analysis:\n",
    "\n",
    "#### Count the total number of quotes.\n",
    "#### Identify the most frequently occurring tags.\n",
    "#### Analyze the length of quotes (number of characters or words)."
   ]
  },
  {
   "cell_type": "code",
   "execution_count": 9,
   "id": "5088cebf-dcc9-4d0d-916d-c04faf5c6286",
   "metadata": {},
   "outputs": [
    {
     "data": {
      "image/png": "[encoded data removed]",
      "text/plain": [
       "<Figure size 640x480 with 1 Axes>"
      ]
     },
     "metadata": {},
     "output_type": "display_data"
    },
    {
     "name": "stdout",
     "output_type": "stream",
     "text": [
      "Total number of quotes: 100\n",
      "Top 5 most frequent tags:\n",
      " tags\n",
      "love                    4\n",
      "attributed-no-source    3\n",
      "inspirational           3\n",
      "humor                   3\n",
      "death,life              2\n",
      "Name: count, dtype: int64\n",
      "Average quote length (in characters): 122.27\n"
     ]
    }
   ],
   "source": [
    "# Count the total number of quotes\n",
    "total_quotes = len(quotes_df)\n",
    "\n",
    "# Identify the most frequently occurring tags\n",
    "top_tags = quotes_df['tags'].str.split(', ').explode().value_counts().head(5)\n",
    "\n",
    "# Analyze the length of quotes (number of characters or words)\n",
    "quotes_df['quote_length'] = quotes_df['quote'].apply(lambda x: len(x))\n",
    "average_quote_length = quotes_df['quote_length'].mean()\n",
    "\n",
    "# Visualization\n",
    "# Plotting the distribution of quote lengths\n",
    "plt.hist(quotes_df['quote_length'], bins=30, color='skyblue', edgecolor='black')\n",
    "plt.title('Distribution of Quote Lengths')\n",
    "plt.xlabel('Quote Length')\n",
    "plt.ylabel('Frequency')\n",
    "plt.show()\n",
    "\n",
    "# Displaying results\n",
    "print(\"Total number of quotes:\", total_quotes)\n",
    "print(\"Top 5 most frequent tags:\\n\", top_tags)\n",
    "print(\"Average quote length (in characters):\", average_quote_length)\n"
   ]
  },
  {
   "cell_type": "code",
   "execution_count": 10,
   "id": "44982a5a-ed8d-4c1d-ba06-9924075f9435",
   "metadata": {},
   "outputs": [
    {
     "data": {
      "text/html": [
       "<div>\n",
       "<style scoped>\n",
       "    .dataframe tbody tr th:only-of-type {\n",
       "        vertical-align: middle;\n",
       "    }\n",
       "\n",
       "    .dataframe tbody tr th {\n",
       "        vertical-align: top;\n",
       "    }\n",
       "\n",
       "    .dataframe thead th {\n",
       "        text-align: right;\n",
       "    }\n",
       "</style>\n",
       "<table border=\"1\" class=\"dataframe\">\n",
       "  <thead>\n",
       "    <tr style=\"text-align: right;\">\n",
       "      <th></th>\n",
       "      <th>id</th>\n",
       "      <th>author</th>\n",
       "      <th>quote</th>\n",
       "      <th>tags</th>\n",
       "      <th>quote_length</th>\n",
       "    </tr>\n",
       "  </thead>\n",
       "  <tbody>\n",
       "    <tr>\n",
       "      <th>0</th>\n",
       "      <td>1</td>\n",
       "      <td>Albert Einstein</td>\n",
       "      <td>“The world as we have created it is a process ...</td>\n",
       "      <td>change,deep-thoughts,thinking,world</td>\n",
       "      <td>115</td>\n",
       "    </tr>\n",
       "    <tr>\n",
       "      <th>1</th>\n",
       "      <td>2</td>\n",
       "      <td>J.K. Rowling</td>\n",
       "      <td>“It is our choices, Harry, that show what we t...</td>\n",
       "      <td>abilities,choices</td>\n",
       "      <td>85</td>\n",
       "    </tr>\n",
       "    <tr>\n",
       "      <th>2</th>\n",
       "      <td>3</td>\n",
       "      <td>Albert Einstein</td>\n",
       "      <td>“There are only two ways to live your life. On...</td>\n",
       "      <td>inspirational,life,live,miracle,miracles</td>\n",
       "      <td>131</td>\n",
       "    </tr>\n",
       "    <tr>\n",
       "      <th>3</th>\n",
       "      <td>4</td>\n",
       "      <td>Jane Austen</td>\n",
       "      <td>“The person, be it gentleman or lady, who has ...</td>\n",
       "      <td>aliteracy,books,classic,humor</td>\n",
       "      <td>104</td>\n",
       "    </tr>\n",
       "    <tr>\n",
       "      <th>4</th>\n",
       "      <td>5</td>\n",
       "      <td>Marilyn Monroe</td>\n",
       "      <td>“Imperfection is beauty, madness is genius and...</td>\n",
       "      <td>be-yourself,inspirational</td>\n",
       "      <td>111</td>\n",
       "    </tr>\n",
       "    <tr>\n",
       "      <th>...</th>\n",
       "      <td>...</td>\n",
       "      <td>...</td>\n",
       "      <td>...</td>\n",
       "      <td>...</td>\n",
       "      <td>...</td>\n",
       "    </tr>\n",
       "    <tr>\n",
       "      <th>95</th>\n",
       "      <td>96</td>\n",
       "      <td>Harper Lee</td>\n",
       "      <td>“You never really understand a person until yo...</td>\n",
       "      <td>better-life-empathy</td>\n",
       "      <td>148</td>\n",
       "    </tr>\n",
       "    <tr>\n",
       "      <th>96</th>\n",
       "      <td>97</td>\n",
       "      <td>Madeleine L'Engle</td>\n",
       "      <td>“You have to write the book that wants to be w...</td>\n",
       "      <td>books,children,difficult,grown-ups,write,write...</td>\n",
       "      <td>139</td>\n",
       "    </tr>\n",
       "    <tr>\n",
       "      <th>97</th>\n",
       "      <td>98</td>\n",
       "      <td>Mark Twain</td>\n",
       "      <td>“Never tell the truth to people who are not wo...</td>\n",
       "      <td>truth</td>\n",
       "      <td>58</td>\n",
       "    </tr>\n",
       "    <tr>\n",
       "      <th>98</th>\n",
       "      <td>99</td>\n",
       "      <td>Dr. Seuss</td>\n",
       "      <td>“A person's a person, no matter how small.”</td>\n",
       "      <td>inspirational</td>\n",
       "      <td>43</td>\n",
       "    </tr>\n",
       "    <tr>\n",
       "      <th>99</th>\n",
       "      <td>100</td>\n",
       "      <td>George R.R. Martin</td>\n",
       "      <td>“... a mind needs books as a sword needs a whe...</td>\n",
       "      <td>books,mind</td>\n",
       "      <td>81</td>\n",
       "    </tr>\n",
       "  </tbody>\n",
       "</table>\n",
       "<p>100 rows × 5 columns</p>\n",
       "</div>"
      ],
      "text/plain": [
       "     id              author  \\\n",
       "0     1     Albert Einstein   \n",
       "1     2        J.K. Rowling   \n",
       "2     3     Albert Einstein   \n",
       "3     4         Jane Austen   \n",
       "4     5      Marilyn Monroe   \n",
       "..  ...                 ...   \n",
       "95   96          Harper Lee   \n",
       "96   97   Madeleine L'Engle   \n",
       "97   98          Mark Twain   \n",
       "98   99           Dr. Seuss   \n",
       "99  100  George R.R. Martin   \n",
       "\n",
       "                                                quote  \\\n",
       "0   “The world as we have created it is a process ...   \n",
       "1   “It is our choices, Harry, that show what we t...   \n",
       "2   “There are only two ways to live your life. On...   \n",
       "3   “The person, be it gentleman or lady, who has ...   \n",
       "4   “Imperfection is beauty, madness is genius and...   \n",
       "..                                                ...   \n",
       "95  “You never really understand a person until yo...   \n",
       "96  “You have to write the book that wants to be w...   \n",
       "97  “Never tell the truth to people who are not wo...   \n",
       "98        “A person's a person, no matter how small.”   \n",
       "99  “... a mind needs books as a sword needs a whe...   \n",
       "\n",
       "                                                 tags  quote_length  \n",
       "0                 change,deep-thoughts,thinking,world           115  \n",
       "1                                   abilities,choices            85  \n",
       "2            inspirational,life,live,miracle,miracles           131  \n",
       "3                       aliteracy,books,classic,humor           104  \n",
       "4                           be-yourself,inspirational           111  \n",
       "..                                                ...           ...  \n",
       "95                                better-life-empathy           148  \n",
       "96  books,children,difficult,grown-ups,write,write...           139  \n",
       "97                                              truth            58  \n",
       "98                                      inspirational            43  \n",
       "99                                         books,mind            81  \n",
       "\n",
       "[100 rows x 5 columns]"
      ]
     },
     "execution_count": 10,
     "metadata": {},
     "output_type": "execute_result"
    }
   ],
   "source": [
    "quotes_df"
   ]
  },
  {
   "cell_type": "code",
   "execution_count": 11,
   "id": "6a0bc383-f0c6-46bf-a462-d24b593ec026",
   "metadata": {},
   "outputs": [
    {
     "data": {
      "text/html": [
       "<div>\n",
       "<style scoped>\n",
       "    .dataframe tbody tr th:only-of-type {\n",
       "        vertical-align: middle;\n",
       "    }\n",
       "\n",
       "    .dataframe tbody tr th {\n",
       "        vertical-align: top;\n",
       "    }\n",
       "\n",
       "    .dataframe thead th {\n",
       "        text-align: right;\n",
       "    }\n",
       "</style>\n",
       "<table border=\"1\" class=\"dataframe\">\n",
       "  <thead>\n",
       "    <tr style=\"text-align: right;\">\n",
       "      <th></th>\n",
       "      <th>tags</th>\n",
       "      <th>count</th>\n",
       "    </tr>\n",
       "  </thead>\n",
       "  <tbody>\n",
       "    <tr>\n",
       "      <th>0</th>\n",
       "      <td>love</td>\n",
       "      <td>14</td>\n",
       "    </tr>\n",
       "    <tr>\n",
       "      <th>2</th>\n",
       "      <td>life</td>\n",
       "      <td>13</td>\n",
       "    </tr>\n",
       "    <tr>\n",
       "      <th>1</th>\n",
       "      <td>inspirational</td>\n",
       "      <td>13</td>\n",
       "    </tr>\n",
       "    <tr>\n",
       "      <th>3</th>\n",
       "      <td>humor</td>\n",
       "      <td>12</td>\n",
       "    </tr>\n",
       "    <tr>\n",
       "      <th>4</th>\n",
       "      <td>books</td>\n",
       "      <td>11</td>\n",
       "    </tr>\n",
       "    <tr>\n",
       "      <th>...</th>\n",
       "      <td>...</td>\n",
       "      <td>...</td>\n",
       "    </tr>\n",
       "    <tr>\n",
       "      <th>57</th>\n",
       "      <td>christianity</td>\n",
       "      <td>1</td>\n",
       "    </tr>\n",
       "    <tr>\n",
       "      <th>56</th>\n",
       "      <td>faith</td>\n",
       "      <td>1</td>\n",
       "    </tr>\n",
       "    <tr>\n",
       "      <th>55</th>\n",
       "      <td>sun</td>\n",
       "      <td>1</td>\n",
       "    </tr>\n",
       "    <tr>\n",
       "      <th>54</th>\n",
       "      <td>adventure</td>\n",
       "      <td>1</td>\n",
       "    </tr>\n",
       "    <tr>\n",
       "      <th>136</th>\n",
       "      <td>mind</td>\n",
       "      <td>1</td>\n",
       "    </tr>\n",
       "  </tbody>\n",
       "</table>\n",
       "<p>137 rows × 2 columns</p>\n",
       "</div>"
      ],
      "text/plain": [
       "              tags  count\n",
       "0             love     14\n",
       "2             life     13\n",
       "1    inspirational     13\n",
       "3            humor     12\n",
       "4            books     11\n",
       "..             ...    ...\n",
       "57    christianity      1\n",
       "56           faith      1\n",
       "55             sun      1\n",
       "54       adventure      1\n",
       "136           mind      1\n",
       "\n",
       "[137 rows x 2 columns]"
      ]
     },
     "execution_count": 11,
     "metadata": {},
     "output_type": "execute_result"
    }
   ],
   "source": [
    "# Explode tags into separate rows for counting\n",
    "exploded_df = quotes_df['tags'].str.split(',', expand=True).stack()\n",
    "exploded_df.name = 'tags'  # Set the column name\n",
    "exploded_df = exploded_df.to_frame()  # Create a DataFrame\n",
    "\n",
    "# Count the occurrences of each tag\n",
    "tag_counts = exploded_df['tags'].value_counts().reset_index(name='count')\n",
    "\n",
    "# Sort the DataFrame by count in descending order (optional)\n",
    "tag_counts = tag_counts.sort_values(by='count', ascending=False)\n",
    "\n",
    "tag_counts"
   ]
  },
  {
   "cell_type": "code",
   "execution_count": 12,
   "id": "ecd56cc7-79c0-4d1d-8170-65f176b0381d",
   "metadata": {},
   "outputs": [
    {
     "name": "stdout",
     "output_type": "stream",
     "text": [
      "Tag counts saved to 'tag_counts.csv'.\n"
     ]
    }
   ],
   "source": [
    "tag_counts.to_csv('tags.csv', index=False)  # Optionally, remove the index column\n",
    "print(\"Tag counts saved to 'tag_counts.csv'.\")"
   ]
  },
  {
   "cell_type": "code",
   "execution_count": 13,
   "id": "ecdb86c9-fb10-4a77-b613-c80515a84f74",
   "metadata": {},
   "outputs": [],
   "source": [
    "import pygwalker as pyg"
   ]
  },
  {
   "cell_type": "code",
   "execution_count": 17,
   "id": "5d790fb1-ef79-49be-a6a4-5866d29785ce",
   "metadata": {},
   "outputs": [
    {
     "data": {
      "application/vnd.jupyter.widget-view+json": {
       "model_id": "5c0ff50bcf8748bda8237416e61ce9e3",
       "version_major": 2,
       "version_minor": 0
      },
      "text/plain": [
       "Box(children=(HTML(value='<div id=\"ifr-pyg-000616379bd658bdWdgyuDpNIRXTq0wt\" style=\"height: auto\">\\n    <head>…"
      ]
     },
     "metadata": {},
     "output_type": "display_data"
    },
    {
     "data": {
      "text/html": [],
      "text/plain": [
       "<IPython.core.display.HTML object>"
      ]
     },
     "metadata": {},
     "output_type": "display_data"
    },
    {
     "data": {
      "text/plain": [
       "<pygwalker.api.pygwalker.PygWalker at 0x7919cd403370>"
      ]
     },
     "execution_count": 17,
     "metadata": {},
     "output_type": "execute_result"
    }
   ],
   "source": [
    "pyg.walk(authors_df)"
   ]
  },
  {
   "cell_type": "code",
   "execution_count": null,
   "id": "2b9c8a6a-f251-427f-a60b-5a412a70a6c2",
   "metadata": {},
   "outputs": [],
   "source": []
  }
 ],
 "metadata": {
  "kernelspec": {
   "display_name": "Python 3 (ipykernel)",
   "language": "python",
   "name": "python3"
  },
  "language_info": {
   "codemirror_mode": {
    "name": "ipython",
    "version": 3
   },
   "file_extension": ".py",
   "mimetype": "text/x-python",
   "name": "python",
   "nbconvert_exporter": "python",
   "pygments_lexer": "ipython3",
   "version": "3.10.12"
  }
 },
 "nbformat": 4,
 "nbformat_minor": 5
}
